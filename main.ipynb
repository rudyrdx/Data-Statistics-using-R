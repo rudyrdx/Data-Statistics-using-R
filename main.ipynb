{
 "cells": [
  {
   "attachments": {},
   "cell_type": "markdown",
   "metadata": {},
   "source": [
    "##### Necessary Imports for the Project"
   ]
  },
  {
   "cell_type": "code",
   "execution_count": null,
   "metadata": {
    "vscode": {
     "languageId": "r"
    }
   },
   "outputs": [],
   "source": [
    "library(stats) # for hypothesis testing, linear regression\n",
    "library(readr) # for read_csv\n",
    "library(ggplot2) # for data visualization\n",
    "library(BSDA) # for z.test"
   ]
  },
  {
   "attachments": {},
   "cell_type": "markdown",
   "metadata": {},
   "source": [
    "##### Loading & printing and cleaning the Data & info"
   ]
  },
  {
   "cell_type": "code",
   "execution_count": 3,
   "metadata": {
    "vscode": {
     "languageId": "r"
    }
   },
   "outputs": [
    {
     "name": "stderr",
     "output_type": "stream",
     "text": [
      "\u001b[1mRows: \u001b[22m\u001b[34m3922\u001b[39m \u001b[1mColumns: \u001b[22m\u001b[34m3\u001b[39m\n",
      "\u001b[36m──\u001b[39m \u001b[1mColumn specification\u001b[22m \u001b[36m────────────────────────────────────────────────────────\u001b[39m\n",
      "\u001b[1mDelimiter:\u001b[22m \",\"\n",
      "\u001b[32mdbl\u001b[39m (3): height, weight, born\n",
      "\n",
      "\u001b[36mℹ\u001b[39m Use `spec()` to retrieve the full column specification for this data.\n",
      "\u001b[36mℹ\u001b[39m Specify the column types or set `show_col_types = FALSE` to quiet this message.\n"
     ]
    },
    {
     "data": {
      "text/html": [
       "<table class=\"dataframe\">\n",
       "<caption>A tibble: 6 × 3</caption>\n",
       "<thead>\n",
       "\t<tr><th scope=col>height</th><th scope=col>weight</th><th scope=col>born</th></tr>\n",
       "\t<tr><th scope=col>&lt;dbl&gt;</th><th scope=col>&lt;dbl&gt;</th><th scope=col>&lt;dbl&gt;</th></tr>\n",
       "</thead>\n",
       "<tbody>\n",
       "\t<tr><td>180</td><td>77</td><td>1918</td></tr>\n",
       "\t<tr><td>188</td><td>83</td><td>1921</td></tr>\n",
       "\t<tr><td>193</td><td>86</td><td>1924</td></tr>\n",
       "\t<tr><td>196</td><td>88</td><td>1925</td></tr>\n",
       "\t<tr><td>178</td><td>79</td><td>1927</td></tr>\n",
       "\t<tr><td>180</td><td>79</td><td>1926</td></tr>\n",
       "</tbody>\n",
       "</table>\n"
      ],
      "text/latex": [
       "A tibble: 6 × 3\n",
       "\\begin{tabular}{lll}\n",
       " height & weight & born\\\\\n",
       " <dbl> & <dbl> & <dbl>\\\\\n",
       "\\hline\n",
       "\t 180 & 77 & 1918\\\\\n",
       "\t 188 & 83 & 1921\\\\\n",
       "\t 193 & 86 & 1924\\\\\n",
       "\t 196 & 88 & 1925\\\\\n",
       "\t 178 & 79 & 1927\\\\\n",
       "\t 180 & 79 & 1926\\\\\n",
       "\\end{tabular}\n"
      ],
      "text/markdown": [
       "\n",
       "A tibble: 6 × 3\n",
       "\n",
       "| height &lt;dbl&gt; | weight &lt;dbl&gt; | born &lt;dbl&gt; |\n",
       "|---|---|---|\n",
       "| 180 | 77 | 1918 |\n",
       "| 188 | 83 | 1921 |\n",
       "| 193 | 86 | 1924 |\n",
       "| 196 | 88 | 1925 |\n",
       "| 178 | 79 | 1927 |\n",
       "| 180 | 79 | 1926 |\n",
       "\n"
      ],
      "text/plain": [
       "  height weight born\n",
       "1 180    77     1918\n",
       "2 188    83     1921\n",
       "3 193    86     1924\n",
       "4 196    88     1925\n",
       "5 178    79     1927\n",
       "6 180    79     1926"
      ]
     },
     "metadata": {},
     "output_type": "display_data"
    },
    {
     "data": {
      "text/plain": [
       "     height          weight            born     \n",
       " Min.   :160.0   Min.   : 60.00   Min.   :1913  \n",
       " 1st Qu.:190.0   1st Qu.: 86.00   1st Qu.:1948  \n",
       " Median :198.0   Median : 95.00   Median :1964  \n",
       " Mean   :198.7   Mean   : 94.78   Mean   :1962  \n",
       " 3rd Qu.:206.0   3rd Qu.:102.00   3rd Qu.:1979  \n",
       " Max.   :231.0   Max.   :163.00   Max.   :1997  \n",
       " NA's   :1       NA's   :1        NA's   :1     "
      ]
     },
     "metadata": {},
     "output_type": "display_data"
    },
    {
     "data": {
      "text/html": [
       "<style>\n",
       ".list-inline {list-style: none; margin:0; padding: 0}\n",
       ".list-inline>li {display: inline-block}\n",
       ".list-inline>li:not(:last-child)::after {content: \"\\00b7\"; padding: 0 .5ex}\n",
       "</style>\n",
       "<ol class=list-inline><li>3922</li><li>3</li></ol>\n"
      ],
      "text/latex": [
       "\\begin{enumerate*}\n",
       "\\item 3922\n",
       "\\item 3\n",
       "\\end{enumerate*}\n"
      ],
      "text/markdown": [
       "1. 3922\n",
       "2. 3\n",
       "\n",
       "\n"
      ],
      "text/plain": [
       "[1] 3922    3"
      ]
     },
     "metadata": {},
     "output_type": "display_data"
    }
   ],
   "source": [
    "data <- read_csv(\"nba_data.csv\")\n",
    "head(data)\n",
    "summary(data)\n",
    "dim(data)"
   ]
  },
  {
   "attachments": {},
   "cell_type": "markdown",
   "metadata": {},
   "source": [
    "##### Distributation of the Data and visualization using histogram"
   ]
  },
  {
   "cell_type": "code",
   "execution_count": 4,
   "metadata": {
    "vscode": {
     "languageId": "r"
    }
   },
   "outputs": [
    {
     "name": "stderr",
     "output_type": "stream",
     "text": [
      "Warning message:\n",
      "\"\u001b[1m\u001b[22mThe dot-dot notation (`..density..`) was deprecated in ggplot2 3.4.0.\n",
      "\u001b[36mℹ\u001b[39m Please use `after_stat(density)` instead.\"\n",
      "Warning message:\n",
      "\"\u001b[1m\u001b[22mRemoved 1 rows containing non-finite values (`stat_bin()`).\"\n",
      "Warning message:\n",
      "\"\u001b[1m\u001b[22mRemoved 1 rows containing non-finite values (`stat_density()`).\"\n"
     ]
    },
    {
     "data": {
      "image/png": "[encoded data removed]",
      "text/plain": [
       "plot without title"
      ]
     },
     "metadata": {
      "image/png": {
       "height": 420,
       "width": 420
      }
     },
     "output_type": "display_data"
    }
   ],
   "source": [
    "ggplot(data, aes(x =  weight)) +\n",
    "  geom_histogram(binwidth = 5, aes(y = ..density..)) +  # Use density for consistent y-axis\n",
    "  geom_line(stat = \"density\", color = \"red\") +  # Add density line\n",
    "  ggtitle(\"Histogram of Weight with Density Line\") +\n",
    "  xlab(\"Weight (lbs)\") "
   ]
  },
  {
   "cell_type": "code",
   "execution_count": 5,
   "metadata": {
    "vscode": {
     "languageId": "r"
    }
   },
   "outputs": [
    {
     "name": "stderr",
     "output_type": "stream",
     "text": [
      "Warning message:\n",
      "\"\u001b[1m\u001b[22mRemoved 1 rows containing non-finite values (`stat_bin()`).\"\n",
      "Warning message:\n",
      "\"\u001b[1m\u001b[22mRemoved 1 rows containing non-finite values (`stat_density()`).\"\n"
     ]
    },
    {
     "data": {
      "image/png": "[encoded data removed]",
      "text/plain": [
       "plot without title"
      ]
     },
     "metadata": {
      "image/png": {
       "height": 420,
       "width": 420
      }
     },
     "output_type": "display_data"
    }
   ],
   "source": [
    "ggplot(data, aes(x =  height)) +\n",
    "  geom_histogram(binwidth = 5, aes(y = ..density..)) +  # Use density for consistent y-axis\n",
    "  geom_line(stat = \"density\", color = \"red\") +  # Add density line\n",
    "  ggtitle(\"Histogram of height with Density Line\") +\n",
    "  xlab(\"height (cms)\") "
   ]
  },
  {
   "attachments": {},
   "cell_type": "markdown",
   "metadata": {},
   "source": [
    "##### Perform Shapiro-Wilk test for normality"
   ]
  },
  {
   "cell_type": "code",
   "execution_count": 6,
   "metadata": {
    "vscode": {
     "languageId": "r"
    }
   },
   "outputs": [
    {
     "data": {
      "text/plain": [
       "\n",
       "\tShapiro-Wilk normality test\n",
       "\n",
       "data:  data$weight\n",
       "W = 0.97849, p-value < 2.2e-16\n"
      ]
     },
     "metadata": {},
     "output_type": "display_data"
    },
    {
     "data": {
      "text/plain": [
       "\n",
       "\tShapiro-Wilk normality test\n",
       "\n",
       "data:  data$height\n",
       "W = 0.98625, p-value < 2.2e-16\n"
      ]
     },
     "metadata": {},
     "output_type": "display_data"
    }
   ],
   "source": [
    "shapiro.test(data$weight)\n",
    "shapiro.test(data$height)"
   ]
  },
  {
   "attachments": {},
   "cell_type": "markdown",
   "metadata": {},
   "source": [
    "##### Observations:\n",
    "- The data is not normally distributed.\n",
    "- The height data is very slightly skewed to the right.\n",
    "- The weight data is slightly skewed to the left.\n",
    "- The data has 3 columns and 3922 rows."
   ]
  },
  {
   "attachments": {},
   "cell_type": "markdown",
   "metadata": {},
   "source": [
    "##### Preparing the data for the t-test"
   ]
  },
  {
   "cell_type": "code",
   "execution_count": 7,
   "metadata": {
    "vscode": {
     "languageId": "r"
    }
   },
   "outputs": [
    {
     "data": {
      "text/html": [
       "84"
      ],
      "text/latex": [
       "84"
      ],
      "text/markdown": [
       "84"
      ],
      "text/plain": [
       "[1] 84"
      ]
     },
     "metadata": {},
     "output_type": "display_data"
    }
   ],
   "source": [
    "height_counts <- table(data$born)\n",
    "height_counts_df <- as.data.frame(height_counts)\n",
    "colnames(height_counts_df) <- c(\"Year\", \"Height Count\")\n",
    "sorted_height_counts <- height_counts_df[order(-height_counts_df$`Height Count`), ]\n",
    "length(sorted_height_counts$Year)"
   ]
  },
  {
   "cell_type": "code",
   "execution_count": 8,
   "metadata": {
    "vscode": {
     "languageId": "r"
    }
   },
   "outputs": [
    {
     "data": {
      "text/html": [
       "29"
      ],
      "text/latex": [
       "29"
      ],
      "text/markdown": [
       "29"
      ],
      "text/plain": [
       "[1] 29"
      ]
     },
     "metadata": {},
     "output_type": "display_data"
    },
    {
     "data": {
      "text/html": [
       "29"
      ],
      "text/latex": [
       "29"
      ],
      "text/markdown": [
       "29"
      ],
      "text/plain": [
       "[1] 29"
      ]
     },
     "metadata": {},
     "output_type": "display_data"
    },
    {
     "data": {
      "text/html": [
       "71"
      ],
      "text/latex": [
       "71"
      ],
      "text/markdown": [
       "71"
      ],
      "text/plain": [
       "[1] 71"
      ]
     },
     "metadata": {},
     "output_type": "display_data"
    },
    {
     "data": {
      "text/html": [
       "74"
      ],
      "text/latex": [
       "74"
      ],
      "text/markdown": [
       "74"
      ],
      "text/plain": [
       "[1] 74"
      ]
     },
     "metadata": {},
     "output_type": "display_data"
    }
   ],
   "source": [
    "heights_1991 = data$height[data$born == 1991][1:29]\n",
    "heights_1969 = data$height[data$born == 1969][1:29]\n",
    "length(x = heights_1991)\n",
    "length(x = heights_1969)\n",
    "heights_1991z = data$height[data$born == 1991]\n",
    "heights_1969z = data$height[data$born == 1969]\n",
    "length(x = heights_1991z)\n",
    "length(x = heights_1969z)"
   ]
  },
  {
   "attachments": {},
   "cell_type": "markdown",
   "metadata": {},
   "source": [
    "##### Performing a T-test to check there is no significant difference of heights of players in 1969 and 1991"
   ]
  },
  {
   "cell_type": "code",
   "execution_count": 9,
   "metadata": {
    "vscode": {
     "languageId": "r"
    }
   },
   "outputs": [
    {
     "data": {
      "text/html": [
       "<style>\n",
       ".list-inline {list-style: none; margin:0; padding: 0}\n",
       ".list-inline>li {display: inline-block}\n",
       ".list-inline>li:not(:last-child)::after {content: \"\\00b7\"; padding: 0 .5ex}\n",
       "</style>\n",
       "<ol class=list-inline><li>&lt;NA&gt;</li><li>208</li><li>198</li><li>198</li><li>190</li><li>201</li></ol>\n"
      ],
      "text/latex": [
       "\\begin{enumerate*}\n",
       "\\item <NA>\n",
       "\\item 208\n",
       "\\item 198\n",
       "\\item 198\n",
       "\\item 190\n",
       "\\item 201\n",
       "\\end{enumerate*}\n"
      ],
      "text/markdown": [
       "1. &lt;NA&gt;\n",
       "2. 208\n",
       "3. 198\n",
       "4. 198\n",
       "5. 190\n",
       "6. 201\n",
       "\n",
       "\n"
      ],
      "text/plain": [
       "[1]  NA 208 198 198 190 201"
      ]
     },
     "metadata": {},
     "output_type": "display_data"
    },
    {
     "data": {
      "text/html": [
       "<style>\n",
       ".list-inline {list-style: none; margin:0; padding: 0}\n",
       ".list-inline>li {display: inline-block}\n",
       ".list-inline>li:not(:last-child)::after {content: \"\\00b7\"; padding: 0 .5ex}\n",
       "</style>\n",
       "<ol class=list-inline><li>&lt;NA&gt;</li><li>193</li><li>208</li><li>198</li><li>208</li><li>206</li></ol>\n"
      ],
      "text/latex": [
       "\\begin{enumerate*}\n",
       "\\item <NA>\n",
       "\\item 193\n",
       "\\item 208\n",
       "\\item 198\n",
       "\\item 208\n",
       "\\item 206\n",
       "\\end{enumerate*}\n"
      ],
      "text/markdown": [
       "1. &lt;NA&gt;\n",
       "2. 193\n",
       "3. 208\n",
       "4. 198\n",
       "5. 208\n",
       "6. 206\n",
       "\n",
       "\n"
      ],
      "text/plain": [
       "[1]  NA 193 208 198 208 206"
      ]
     },
     "metadata": {},
     "output_type": "display_data"
    }
   ],
   "source": [
    "head(heights_1991)\n",
    "head(heights_1969)"
   ]
  },
  {
   "cell_type": "code",
   "execution_count": 10,
   "metadata": {
    "vscode": {
     "languageId": "r"
    }
   },
   "outputs": [
    {
     "data": {
      "image/png": "[encoded data removed]",
      "text/plain": [
       "plot without title"
      ]
     },
     "metadata": {
      "image/png": {
       "height": 420,
       "width": 420
      }
     },
     "output_type": "display_data"
    }
   ],
   "source": [
    "# prepare a boxplot\n",
    "boxplot(heights_1991, heights_1969, names = c(\"1991\", \"1969\"), ylab = \"Height (cm)\", xlab = \"Year\")"
   ]
  },
  {
   "cell_type": "markdown",
   "metadata": {},
   "source": [
    "The box plots show that the median height of men has very slightly decreased from 1969 to 1991. Also the IQR has become smaller. This means that the heights of men are more similar to eachother in 1991 than in 1969."
   ]
  },
  {
   "cell_type": "code",
   "execution_count": 11,
   "metadata": {
    "vscode": {
     "languageId": "r"
    }
   },
   "outputs": [
    {
     "data": {
      "image/png": "[encoded data removed]",
      "text/plain": [
       "Plot with title \"Height of NBA Players in 1991\""
      ]
     },
     "metadata": {
      "image/png": {
       "height": 420,
       "width": 420
      }
     },
     "output_type": "display_data"
    },
    {
     "data": {
      "image/png": "[encoded data removed]",
      "text/plain": [
       "Plot with title \"Height of NBA Players in 1969\""
      ]
     },
     "metadata": {
      "image/png": {
       "height": 420,
       "width": 420
      }
     },
     "output_type": "display_data"
    }
   ],
   "source": [
    "hist(heights_1991, col = \"red\", main = \"Height of NBA Players in 1991\", xlab = \"Height (cm)\")\n",
    "hist(heights_1969, col = \"blue\", main = \"Height of NBA Players in 1969\", xlab = \"Height (cm)\")"
   ]
  },
  {
   "attachments": {},
   "cell_type": "markdown",
   "metadata": {},
   "source": [
    "##### Check the variations in the data before the t test"
   ]
  },
  {
   "cell_type": "code",
   "execution_count": 12,
   "metadata": {
    "vscode": {
     "languageId": "r"
    }
   },
   "outputs": [
    {
     "data": {
      "text/plain": [
       "\n",
       "\tF test to compare two variances\n",
       "\n",
       "data:  heights_1991 and heights_1969\n",
       "F = 0.66193, num df = 27, denom df = 27, p-value = 0.2899\n",
       "alternative hypothesis: true ratio of variances is not equal to 1\n",
       "95 percent confidence interval:\n",
       " 0.3063169 1.4304020\n",
       "sample estimates:\n",
       "ratio of variances \n",
       "         0.6619338 \n"
      ]
     },
     "metadata": {},
     "output_type": "display_data"
    }
   ],
   "source": [
    "var.test(heights_1991, heights_1969)"
   ]
  },
  {
   "attachments": {},
   "cell_type": "markdown",
   "metadata": {},
   "source": [
    "- The p-value of the F-test is p = 0.2899\n",
    "- It is greater than the significance level alpha = 0.05. \n",
    "- In conclusion, there is **no significant** difference between the variances of the two sets of data. \n",
    "- Therefore, we can use the classic t-test, assuming equality of the two variances."
   ]
  },
  {
   "attachments": {},
   "cell_type": "markdown",
   "metadata": {},
   "source": [
    "##### Performing a T-test to check there is no significant difference of heights of players in 1969 and 1991\n",
    "- **Null Hypothesis**: There is no significant difference of heights of players in 1969 and 1991\n",
    "- **Alternative Hypothesis**: There is significant difference of heights of players in 1969 and 1991"
   ]
  },
  {
   "cell_type": "code",
   "execution_count": 13,
   "metadata": {
    "vscode": {
     "languageId": "r"
    }
   },
   "outputs": [
    {
     "data": {
      "text/plain": [
       "\n",
       "\tTwo-sample z-Test\n",
       "\n",
       "data:  heights_1991z and heights_1969z\n",
       "z = NA, p-value = NA\n",
       "alternative hypothesis: true difference in means is not equal to 0\n",
       "95 percent confidence interval:\n",
       " NA NA\n",
       "sample estimates:\n",
       "mean of x mean of y \n",
       " 198.7286  200.2740 \n"
      ]
     },
     "metadata": {},
     "output_type": "display_data"
    }
   ],
   "source": [
    "# z test just to confirm\n",
    "z.test(heights_1991z, heights_1969z, alternative = \"two.sided\", mu = 0, sigma.x = sd(heights_1991z), sigma.y = sd(heights_1969z), conf.level = 0.95)"
   ]
  },
  {
   "cell_type": "code",
   "execution_count": 14,
   "metadata": {
    "vscode": {
     "languageId": "r"
    }
   },
   "outputs": [
    {
     "data": {
      "text/plain": [
       "\n",
       "\tTwo Sample t-test\n",
       "\n",
       "data:  heights_1969 and heights_1991\n",
       "t = 0.85275, df = 54, p-value = 0.3976\n",
       "alternative hypothesis: true difference in means is not equal to 0\n",
       "95 percent confidence interval:\n",
       " -2.605646  6.462789\n",
       "sample estimates:\n",
       "mean of x mean of y \n",
       " 200.1071  198.1786 \n"
      ]
     },
     "metadata": {},
     "output_type": "display_data"
    }
   ],
   "source": [
    "t.test(heights_1969, heights_1991, var.equal = TRUE)"
   ]
  },
  {
   "attachments": {},
   "cell_type": "markdown",
   "metadata": {},
   "source": [
    "- Based on the p-value **0.3976** > 0.05 (α) df and confidence interval, there is no significant difference in heights between players born in 1969 and 1991.\n",
    "- **Fail to reject the null hypothesis** and accept it.\n",
    "- Any observed differences are likely due to random variation.\n",
    "- The mean height for players born in **1969 is 200.1071**, while for those born in **1991 is 198.1786**."
   ]
  },
  {
   "attachments": {},
   "cell_type": "markdown",
   "metadata": {},
   "source": [
    "##### Performing Simple Linear Regression to predict the height of a player based on his weight"
   ]
  },
  {
   "cell_type": "code",
   "execution_count": 31,
   "metadata": {
    "vscode": {
     "languageId": "r"
    }
   },
   "outputs": [
    {
     "data": {
      "text/plain": [
       "     height          weight            born     \n",
       " Min.   :160.0   Min.   : 60.00   Min.   :1913  \n",
       " 1st Qu.:190.0   1st Qu.: 86.00   1st Qu.:1948  \n",
       " Median :198.0   Median : 95.00   Median :1964  \n",
       " Mean   :198.7   Mean   : 94.78   Mean   :1962  \n",
       " 3rd Qu.:206.0   3rd Qu.:102.00   3rd Qu.:1979  \n",
       " Max.   :231.0   Max.   :163.00   Max.   :1997  \n",
       " NA's   :1       NA's   :1        NA's   :1     "
      ]
     },
     "metadata": {},
     "output_type": "display_data"
    },
    {
     "name": "stderr",
     "output_type": "stream",
     "text": [
      "The following objects are masked _by_ .GlobalEnv:\n",
      "\n",
      "    dependent_variable, independent_variable\n",
      "\n",
      "\n",
      "The following objects are masked from lr_data (pos = 3):\n",
      "\n",
      "    dependent_variable, independent_variable\n",
      "\n",
      "\n"
     ]
    },
    {
     "data": {
      "text/html": [
       "<table class=\"dataframe\">\n",
       "<caption>A data.frame: 6 × 2</caption>\n",
       "<thead>\n",
       "\t<tr><th></th><th scope=col>dependent_variable</th><th scope=col>independent_variable</th></tr>\n",
       "\t<tr><th></th><th scope=col>&lt;dbl&gt;</th><th scope=col>&lt;dbl&gt;</th></tr>\n",
       "</thead>\n",
       "<tbody>\n",
       "\t<tr><th scope=row>1</th><td>77</td><td>180</td></tr>\n",
       "\t<tr><th scope=row>2</th><td>83</td><td>188</td></tr>\n",
       "\t<tr><th scope=row>3</th><td>86</td><td>193</td></tr>\n",
       "\t<tr><th scope=row>4</th><td>88</td><td>196</td></tr>\n",
       "\t<tr><th scope=row>5</th><td>79</td><td>178</td></tr>\n",
       "\t<tr><th scope=row>6</th><td>79</td><td>180</td></tr>\n",
       "</tbody>\n",
       "</table>\n"
      ],
      "text/latex": [
       "A data.frame: 6 × 2\n",
       "\\begin{tabular}{r|ll}\n",
       "  & dependent\\_variable & independent\\_variable\\\\\n",
       "  & <dbl> & <dbl>\\\\\n",
       "\\hline\n",
       "\t1 & 77 & 180\\\\\n",
       "\t2 & 83 & 188\\\\\n",
       "\t3 & 86 & 193\\\\\n",
       "\t4 & 88 & 196\\\\\n",
       "\t5 & 79 & 178\\\\\n",
       "\t6 & 79 & 180\\\\\n",
       "\\end{tabular}\n"
      ],
      "text/markdown": [
       "\n",
       "A data.frame: 6 × 2\n",
       "\n",
       "| <!--/--> | dependent_variable &lt;dbl&gt; | independent_variable &lt;dbl&gt; |\n",
       "|---|---|---|\n",
       "| 1 | 77 | 180 |\n",
       "| 2 | 83 | 188 |\n",
       "| 3 | 86 | 193 |\n",
       "| 4 | 88 | 196 |\n",
       "| 5 | 79 | 178 |\n",
       "| 6 | 79 | 180 |\n",
       "\n"
      ],
      "text/plain": [
       "  dependent_variable independent_variable\n",
       "1 77                 180                 \n",
       "2 83                 188                 \n",
       "3 86                 193                 \n",
       "4 88                 196                 \n",
       "5 79                 178                 \n",
       "6 79                 180                 "
      ]
     },
     "metadata": {},
     "output_type": "display_data"
    }
   ],
   "source": [
    "# prepare variables for linear regression\n",
    "dependent_variable = data$weight\n",
    "independent_variable = data$height\n",
    "\n",
    "lr_data = data.frame(dependent_variable, independent_variable)\n",
    "summary(data)\n",
    "attach(lr_data)\n",
    "head(lr_data)"
   ]
  },
  {
   "cell_type": "code",
   "execution_count": 16,
   "metadata": {
    "vscode": {
     "languageId": "r"
    }
   },
   "outputs": [
    {
     "data": {
      "image/png": "[encoded data removed]",
      "text/plain": [
       "Plot with title \"Weight\""
      ]
     },
     "metadata": {
      "image/png": {
       "height": 420,
       "width": 420
      }
     },
     "output_type": "display_data"
    },
    {
     "data": {
      "image/png": "[encoded data removed]",
      "text/plain": [
       "Plot with title \"Height\""
      ]
     },
     "metadata": {
      "image/png": {
       "height": 420,
       "width": 420
      }
     },
     "output_type": "display_data"
    }
   ],
   "source": [
    "hist(lr_data$dependent_variable, col = \"red\", main = \"Weight\", xlab = \"Weight (lbs)\")\n",
    "hist(lr_data$independent_variable, col = \"blue\", main = \"Height\", xlab = \"Height (cm)\")"
   ]
  },
  {
   "cell_type": "markdown",
   "metadata": {},
   "source": [
    "##### Observations:\n",
    "- The data is not normally distributed.\n",
    "- The height data is very slightly skewed to the right.\n",
    "- The weight data is slightly skewed to the left."
   ]
  },
  {
   "cell_type": "code",
   "execution_count": 17,
   "metadata": {
    "vscode": {
     "languageId": "r"
    }
   },
   "outputs": [
    {
     "data": {
      "text/plain": [
       "\n",
       "\tShapiro-Wilk normality test\n",
       "\n",
       "data:  lr_data$dependent_variable\n",
       "W = 0.97849, p-value < 2.2e-16\n"
      ]
     },
     "metadata": {},
     "output_type": "display_data"
    },
    {
     "data": {
      "text/plain": [
       "\n",
       "\tShapiro-Wilk normality test\n",
       "\n",
       "data:  lr_data$independent_variable\n",
       "W = 0.98625, p-value < 2.2e-16\n"
      ]
     },
     "metadata": {},
     "output_type": "display_data"
    }
   ],
   "source": [
    "# check normality\n",
    "shapiro.test(lr_data$dependent_variable)\n",
    "shapiro.test(lr_data$independent_variable)"
   ]
  },
  {
   "cell_type": "code",
   "execution_count": 18,
   "metadata": {
    "vscode": {
     "languageId": "r"
    }
   },
   "outputs": [
    {
     "data": {
      "text/plain": [
       "\n",
       "\tF test to compare two variances\n",
       "\n",
       "data:  lr_data$dependent_variable and lr_data$independent_variable\n",
       "F = 1.6869, num df = 3920, denom df = 3920, p-value < 2.2e-16\n",
       "alternative hypothesis: true ratio of variances is not equal to 1\n",
       "95 percent confidence interval:\n",
       " 1.584479 1.795873\n",
       "sample estimates:\n",
       "ratio of variances \n",
       "          1.686867 \n"
      ]
     },
     "metadata": {},
     "output_type": "display_data"
    }
   ],
   "source": [
    "# check varience\n",
    "var.test(lr_data$dependent_variable, lr_data$independent_variable)"
   ]
  },
  {
   "cell_type": "markdown",
   "metadata": {},
   "source": [
    "##### Observations:\n",
    "- There is a significant difference in varience as the p value < 0.05."
   ]
  },
  {
   "cell_type": "code",
   "execution_count": 19,
   "metadata": {
    "vscode": {
     "languageId": "r"
    }
   },
   "outputs": [
    {
     "data": {
      "image/png": "[encoded data removed]",
      "text/plain": [
       "Plot with title \"Weight vs Height\""
      ]
     },
     "metadata": {
      "image/png": {
       "height": 420,
       "width": 420
      }
     },
     "output_type": "display_data"
    }
   ],
   "source": [
    "plot(lr_data$dependent_variable, lr_data$independent_variable, main = \"Weight vs Height\", xlab\n",
    "= \"height\", ylab = \"Weight\", col = \"red\",pch =16, las = 1,lwd = 2)"
   ]
  },
  {
   "attachments": {},
   "cell_type": "markdown",
   "metadata": {},
   "source": [
    "- The scatterplot shows the nature of linear relationship between height and weight.\n",
    "- There is a strong positive relationship between height and weight. \n",
    "- As height increases, the weight increases. \n",
    "- Thus, we many say that taller players have higher weights than shorter players atleast in NBA."
   ]
  },
  {
   "cell_type": "code",
   "execution_count": 20,
   "metadata": {
    "vscode": {
     "languageId": "r"
    }
   },
   "outputs": [
    {
     "data": {
      "text/html": [
       "<table class=\"dataframe\">\n",
       "<caption>A matrix: 2 × 2 of type dbl</caption>\n",
       "<thead>\n",
       "\t<tr><th></th><th scope=col>dependent_variable</th><th scope=col>independent_variable</th></tr>\n",
       "</thead>\n",
       "<tbody>\n",
       "\t<tr><th scope=row>dependent_variable</th><td> 1</td><td>NA</td></tr>\n",
       "\t<tr><th scope=row>independent_variable</th><td>NA</td><td> 1</td></tr>\n",
       "</tbody>\n",
       "</table>\n"
      ],
      "text/latex": [
       "A matrix: 2 × 2 of type dbl\n",
       "\\begin{tabular}{r|ll}\n",
       "  & dependent\\_variable & independent\\_variable\\\\\n",
       "\\hline\n",
       "\tdependent\\_variable &  1 & NA\\\\\n",
       "\tindependent\\_variable & NA &  1\\\\\n",
       "\\end{tabular}\n"
      ],
      "text/markdown": [
       "\n",
       "A matrix: 2 × 2 of type dbl\n",
       "\n",
       "| <!--/--> | dependent_variable | independent_variable |\n",
       "|---|---|---|\n",
       "| dependent_variable |  1 | NA |\n",
       "| independent_variable | NA |  1 |\n",
       "\n"
      ],
      "text/plain": [
       "                     dependent_variable independent_variable\n",
       "dependent_variable    1                 NA                  \n",
       "independent_variable NA                  1                  "
      ]
     },
     "metadata": {},
     "output_type": "display_data"
    }
   ],
   "source": [
    "cor(lr_data)"
   ]
  },
  {
   "attachments": {},
   "cell_type": "markdown",
   "metadata": {},
   "source": [
    "- the correlation reveals that the degree of relationship between height and weight is 1 which is a strong positive relationship."
   ]
  },
  {
   "cell_type": "code",
   "execution_count": 21,
   "metadata": {
    "vscode": {
     "languageId": "r"
    }
   },
   "outputs": [
    {
     "data": {
      "text/plain": [
       "\n",
       "Call:\n",
       "lm(formula = x ~ y)\n",
       "\n",
       "Coefficients:\n",
       "(Intercept)            y  \n",
       "   138.4522       0.6357  \n"
      ]
     },
     "metadata": {},
     "output_type": "display_data"
    }
   ],
   "source": [
    "x = lr_data$independent_variable\n",
    "y = lr_data$dependent_variable\n",
    "model = lm(x ~ y)\n",
    "model"
   ]
  },
  {
   "attachments": {},
   "cell_type": "markdown",
   "metadata": {},
   "source": [
    "- The linear regression model approximates the relationship between the dependent variable and the independent variable.\n",
    "\n",
    "- In the given model:\n",
    "  - Intercept: 138.4522\n",
    "  - Coefficient for the independent variable: 0.6357\n",
    "\n",
    "- Estimated linear regression equation:\n",
    "  - `dependent_variable = 138.4522 + 0.6357 * independent_variable`\n",
    "\n",
    "- Implication: Each unit increase in the independent variable results in an expected increase of 0.6357 units in the dependent variable.\n",
    "\n",
    "- Intercept represents the estimated dependent variable value when the independent variable is zero, here at 138.4522.\n"
   ]
  },
  {
   "cell_type": "code",
   "execution_count": 22,
   "metadata": {
    "vscode": {
     "languageId": "r"
    }
   },
   "outputs": [
    {
     "data": {
      "image/png": "[encoded data removed]",
      "text/plain": [
       "Plot with title \"Weight vs Height\""
      ]
     },
     "metadata": {
      "image/png": {
       "height": 420,
       "width": 420
      }
     },
     "output_type": "display_data"
    }
   ],
   "source": [
    "plot(y, x, main = \"Weight vs Height\", xlab\n",
    "= \"height\", ylab = \"Weight\", col = \"red\",pch =16, las = 1,lwd = 2)\n",
    "abline(model, col = \"blue\", lwd = 2)"
   ]
  },
  {
   "cell_type": "code",
   "execution_count": 23,
   "metadata": {
    "vscode": {
     "languageId": "r"
    }
   },
   "outputs": [
    {
     "data": {
      "text/plain": [
       "\n",
       "Call:\n",
       "lm(formula = x ~ y)\n",
       "\n",
       "Residuals:\n",
       "    Min      1Q  Median      3Q     Max \n",
       "-17.664  -3.385  -0.122   3.436  35.336 \n",
       "\n",
       "Coefficients:\n",
       "             Estimate Std. Error t value Pr(>|t|)    \n",
       "(Intercept) 1.385e+02  6.630e-01  208.82   <2e-16 ***\n",
       "y           6.357e-01  6.939e-03   91.61   <2e-16 ***\n",
       "---\n",
       "Signif. codes:  0 '***' 0.001 '**' 0.01 '*' 0.05 '.' 0.1 ' ' 1\n",
       "\n",
       "Residual standard error: 5.231 on 3919 degrees of freedom\n",
       "  (1 observation deleted due to missingness)\n",
       "Multiple R-squared:  0.6817,\tAdjusted R-squared:  0.6816 \n",
       "F-statistic:  8392 on 1 and 3919 DF,  p-value: < 2.2e-16\n"
      ]
     },
     "metadata": {},
     "output_type": "display_data"
    }
   ],
   "source": [
    "# interpret slope and r-squared\n",
    "summary(model)"
   ]
  },
  {
   "cell_type": "code",
   "execution_count": 33,
   "metadata": {
    "vscode": {
     "languageId": "r"
    }
   },
   "outputs": [
    {
     "data": {
      "text/html": [
       "<strong>1:</strong> 195.664280098481"
      ],
      "text/latex": [
       "\\textbf{1:} 195.664280098481"
      ],
      "text/markdown": [
       "**1:** 195.664280098481"
      ],
      "text/plain": [
       "       1 \n",
       "195.6643 "
      ]
     },
     "metadata": {},
     "output_type": "display_data"
    }
   ],
   "source": [
    "# predict the height of a player given their weight\n",
    "predict(model, data.frame(y = 90))"
   ]
  },
  {
   "cell_type": "code",
   "execution_count": 34,
   "metadata": {
    "vscode": {
     "languageId": "r"
    }
   },
   "outputs": [
    {
     "data": {
      "text/html": [
       "<strong>1:</strong> 265.590131909931"
      ],
      "text/latex": [
       "\\textbf{1:} 265.590131909931"
      ],
      "text/markdown": [
       "**1:** 265.590131909931"
      ],
      "text/plain": [
       "       1 \n",
       "265.5901 "
      ]
     },
     "metadata": {},
     "output_type": "display_data"
    }
   ],
   "source": [
    "# predict the height of a player given their weight\n",
    "predict(model, data.frame(y = 200))"
   ]
  },
  {
   "attachments": {},
   "cell_type": "markdown",
   "metadata": {},
   "source": [
    "- **Model:**\n",
    "  - Linear regression: `dependent_variable ~ independent_variable`.\n",
    "\n",
    "- **Residuals:**\n",
    "  - Range: -17.664 to 35.336 => offset 53.0.\n",
    "\n",
    "- **Coefficients:**\n",
    "  - **Intercept:** 138.5.\n",
    "  - **Independent Variable (Slope):** 0.636.\n",
    "  - Both highly significant (p < 0.001).\n",
    "\n",
    "- **Standard Error:**\n",
    "  - Residual standard error: 5.231 units.\n",
    "\n",
    "- **R-squared:**\n",
    "  - Multiple R-squared: 0.6817.\n",
    "  - Adjusted R-squared: 0.6816.\n",
    "\n",
    "- **Model Significance:**\n",
    "  - F-statistic: 8392.\n",
    "  - Model highly significant (p < 2.2e-16).\n",
    "  - This implies that for each unit increase in the independent variable, the dependent variable is expected to increase by 0.636 units.\n",
    "  - The intercept represents the estimated value of the dependent variable when the independent variable is zero. In this case, it is 138.5.\n",
    "\n",
    "- **Model Drawbacks**\n",
    "  - The simple linear approach is not appropriate for the given data as with a weight of 200 lbs, the height of the player is 265.59 which is not possible. so to overcome this we can use non linear regression and more data."
   ]
  },
  {
   "cell_type": "markdown",
   "metadata": {},
   "source": [
    "References:\n",
    "- https://www.kaggle.com/datasets/drgilermo/nba-players-stats?resource=download&select=Players.csv"
   ]
  }
 ],
 "metadata": {
  "kernelspec": {
   "display_name": "R",
   "language": "R",
   "name": "ir"
  },
  "language_info": {
   "codemirror_mode": "r",
   "file_extension": ".r",
   "mimetype": "text/x-r-source",
   "name": "R",
   "pygments_lexer": "r",
   "version": "4.3.1"
  },
  "orig_nbformat": 4
 },
 "nbformat": 4,
 "nbformat_minor": 2
}
